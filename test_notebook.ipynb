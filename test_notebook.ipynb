{
 "cells": [
  {
   "cell_type": "markdown",
   "id": "4f11de00",
   "metadata": {
    "deletable": false,
    "editable": false,
    "id": "4f11de00"
   },
   "source": [
    "# Исследование надежности заемщиков"
   ]
  },
  {
   "cell_type": "markdown",
   "id": "f09d6878",
   "metadata": {
    "deletable": false,
    "editable": false,
    "id": "f09d6878"
   },
   "source": [
    "Это первая часть проекта, она будет проверена автоматически. Вторую часть проверит ревьюер. "
   ]
  },
  {
   "cell_type": "markdown",
   "id": "516620ee",
   "metadata": {
    "deletable": false,
    "editable": false,
    "id": "516620ee"
   },
   "source": [
    "## Откройте таблицу и изучите общую информацию о данных"
   ]
  },
  {
   "cell_type": "markdown",
   "id": "76a8a9ce",
   "metadata": {
    "deletable": false,
    "editable": false,
    "id": "76a8a9ce",
    "tags": [
     "start_task"
    ]
   },
   "source": [
    "**Задание 1. Импортируйте библиотеку pandas. Считайте данные из csv-файла в датафрейм и сохраните в переменную `data`. Путь к файлу:**\n",
    "\n",
    "`/datasets/data.csv`"
   ]
  },
  {
   "cell_type": "code",
   "execution_count": 1,
   "id": "fab207d0",
   "metadata": {
    "id": "fab207d0"
   },
   "outputs": [],
   "source": [
    "# импортируйте библиотеку pandas\n",
    "import pandas as pd"
   ]
  },
  {
   "cell_type": "code",
   "execution_count": 2,
   "id": "6c82b607",
   "metadata": {
    "id": "6c82b607"
   },
   "outputs": [],
   "source": [
    "# прочитайте csv-файл\n",
    "data = pd.read_csv('/datasets/data.csv')"
   ]
  },
  {
   "cell_type": "markdown",
   "id": "08bbb5b3",
   "metadata": {
    "deletable": false,
    "editable": false,
    "id": "08bbb5b3",
    "tags": [
     "start_task"
    ]
   },
   "source": [
    "**Задание 2. Выведите первые 20 строчек датафрейма `data` на экран.**"
   ]
  },
  {
   "cell_type": "code",
   "execution_count": 3,
   "id": "4ff33b36",
   "metadata": {
    "id": "4ff33b36"
   },
   "outputs": [
    {
     "name": "stdout",
     "output_type": "stream",
     "text": [
      "    children  days_employed  dob_years            education  education_id  \\\n",
      "0          1   -8437.673028         42               высшее             0   \n",
      "1          1   -4024.803754         36              среднее             1   \n",
      "2          0   -5623.422610         33              Среднее             1   \n",
      "3          3   -4124.747207         32              среднее             1   \n",
      "4          0  340266.072047         53              среднее             1   \n",
      "5          0    -926.185831         27               высшее             0   \n",
      "6          0   -2879.202052         43               высшее             0   \n",
      "7          0    -152.779569         50              СРЕДНЕЕ             1   \n",
      "8          2   -6929.865299         35               ВЫСШЕЕ             0   \n",
      "9          0   -2188.756445         41              среднее             1   \n",
      "10         2   -4171.483647         36               высшее             0   \n",
      "11         0    -792.701887         40              среднее             1   \n",
      "12         0            NaN         65              среднее             1   \n",
      "13         0   -1846.641941         54  неоконченное высшее             2   \n",
      "14         0   -1844.956182         56               высшее             0   \n",
      "15         1    -972.364419         26              среднее             1   \n",
      "16         0   -1719.934226         35              среднее             1   \n",
      "17         0   -2369.999720         33               высшее             0   \n",
      "18         0  400281.136913         53              среднее             1   \n",
      "19         0  -10038.818549         48              СРЕДНЕЕ             1   \n",
      "\n",
      "       family_status  family_status_id gender income_type  debt  \\\n",
      "0    женат / замужем                 0      F   сотрудник     0   \n",
      "1    женат / замужем                 0      F   сотрудник     0   \n",
      "2    женат / замужем                 0      M   сотрудник     0   \n",
      "3    женат / замужем                 0      M   сотрудник     0   \n",
      "4   гражданский брак                 1      F   пенсионер     0   \n",
      "5   гражданский брак                 1      M   компаньон     0   \n",
      "6    женат / замужем                 0      F   компаньон     0   \n",
      "7    женат / замужем                 0      M   сотрудник     0   \n",
      "8   гражданский брак                 1      F   сотрудник     0   \n",
      "9    женат / замужем                 0      M   сотрудник     0   \n",
      "10   женат / замужем                 0      M   компаньон     0   \n",
      "11   женат / замужем                 0      F   сотрудник     0   \n",
      "12  гражданский брак                 1      M   пенсионер     0   \n",
      "13   женат / замужем                 0      F   сотрудник     0   \n",
      "14  гражданский брак                 1      F   компаньон     1   \n",
      "15   женат / замужем                 0      F   сотрудник     0   \n",
      "16   женат / замужем                 0      F   сотрудник     0   \n",
      "17  гражданский брак                 1      M   сотрудник     0   \n",
      "18    вдовец / вдова                 2      F   пенсионер     0   \n",
      "19         в разводе                 3      F   сотрудник     0   \n",
      "\n",
      "     total_income                                 purpose  \n",
      "0   253875.639453                           покупка жилья  \n",
      "1   112080.014102                 приобретение автомобиля  \n",
      "2   145885.952297                           покупка жилья  \n",
      "3   267628.550329              дополнительное образование  \n",
      "4   158616.077870                         сыграть свадьбу  \n",
      "5   255763.565419                           покупка жилья  \n",
      "6   240525.971920                       операции с жильем  \n",
      "7   135823.934197                             образование  \n",
      "8    95856.832424                   на проведение свадьбы  \n",
      "9   144425.938277                 покупка жилья для семьи  \n",
      "10  113943.491460                    покупка недвижимости  \n",
      "11   77069.234271       покупка коммерческой недвижимости  \n",
      "12            NaN                         сыграть свадьбу  \n",
      "13  130458.228857                 приобретение автомобиля  \n",
      "14  165127.911772              покупка жилой недвижимости  \n",
      "15  116820.904450  строительство собственной недвижимости  \n",
      "16  289202.704229                            недвижимость  \n",
      "17   90410.586745              строительство недвижимости  \n",
      "18   56823.777243      на покупку подержанного автомобиля  \n",
      "19  242831.107982            на покупку своего автомобиля  \n"
     ]
    }
   ],
   "source": [
    "print(data.head(20))"
   ]
  },
  {
   "cell_type": "markdown",
   "id": "c8f382ae",
   "metadata": {
    "deletable": false,
    "editable": false,
    "id": "c8f382ae",
    "tags": [
     "start_task"
    ]
   },
   "source": [
    "**Задание 3. Выведите основную информацию о датафрейме с помощью метода `info()`.**"
   ]
  },
  {
   "cell_type": "code",
   "execution_count": 4,
   "id": "e1ed9908",
   "metadata": {
    "id": "e1ed9908"
   },
   "outputs": [
    {
     "name": "stdout",
     "output_type": "stream",
     "text": [
      "<class 'pandas.core.frame.DataFrame'>\n",
      "RangeIndex: 21525 entries, 0 to 21524\n",
      "Data columns (total 12 columns):\n",
      " #   Column            Non-Null Count  Dtype  \n",
      "---  ------            --------------  -----  \n",
      " 0   children          21525 non-null  int64  \n",
      " 1   days_employed     19351 non-null  float64\n",
      " 2   dob_years         21525 non-null  int64  \n",
      " 3   education         21525 non-null  object \n",
      " 4   education_id      21525 non-null  int64  \n",
      " 5   family_status     21525 non-null  object \n",
      " 6   family_status_id  21525 non-null  int64  \n",
      " 7   gender            21525 non-null  object \n",
      " 8   income_type       21525 non-null  object \n",
      " 9   debt              21525 non-null  int64  \n",
      " 10  total_income      19351 non-null  float64\n",
      " 11  purpose           21525 non-null  object \n",
      "dtypes: float64(2), int64(5), object(5)\n",
      "memory usage: 2.0+ MB\n"
     ]
    }
   ],
   "source": [
    "data.info()"
   ]
  },
  {
   "cell_type": "markdown",
   "id": "f969a1cd",
   "metadata": {
    "deletable": false,
    "editable": false,
    "id": "f969a1cd"
   },
   "source": [
    "## Предобработка данных"
   ]
  },
  {
   "cell_type": "markdown",
   "id": "7283e864",
   "metadata": {
    "deletable": false,
    "editable": false,
    "id": "7283e864"
   },
   "source": [
    "### Удаление пропусков"
   ]
  },
  {
   "cell_type": "markdown",
   "id": "c9a0745e",
   "metadata": {
    "deletable": false,
    "editable": false,
    "id": "c9a0745e",
    "tags": [
     "start_task"
    ]
   },
   "source": [
    "**Задание 4. Выведите количество пропущенных значений для каждого столбца. Используйте комбинацию двух методов.**"
   ]
  },
  {
   "cell_type": "code",
   "execution_count": 5,
   "id": "b7a096e1",
   "metadata": {
    "id": "b7a096e1"
   },
   "outputs": [
    {
     "name": "stdout",
     "output_type": "stream",
     "text": [
      "children               0\n",
      "days_employed       2174\n",
      "dob_years              0\n",
      "education              0\n",
      "education_id           0\n",
      "family_status          0\n",
      "family_status_id       0\n",
      "gender                 0\n",
      "income_type            0\n",
      "debt                   0\n",
      "total_income        2174\n",
      "purpose                0\n",
      "dtype: int64\n"
     ]
    }
   ],
   "source": [
    "print(data.isna().sum()) "
   ]
  },
  {
   "cell_type": "markdown",
   "id": "c2578616",
   "metadata": {
    "deletable": false,
    "editable": false,
    "id": "c2578616",
    "tags": [
     "start_task"
    ]
   },
   "source": [
    "**Задание 5. В двух столбцах есть пропущенные значения. Один из них — `days_employed`. Пропуски в этом столбце вы обработаете на следующем этапе. Другой столбец с пропущенными значениями — `total_income` — хранит данные о доходах. На сумму дохода сильнее всего влияет тип занятости, поэтому заполнить пропуски в этом столбце нужно медианным значением по каждому типу из столбца `income_type`. Например, у человека с типом занятости `сотрудник` пропуск в столбце `total_income` должен быть заполнен медианным доходом среди всех записей с тем же типом.**"
   ]
  },
  {
   "cell_type": "code",
   "execution_count": 6,
   "id": "e8afc4bc",
   "metadata": {
    "id": "e8afc4bc"
   },
   "outputs": [
    {
     "name": "stdout",
     "output_type": "stream",
     "text": [
      "    children  days_employed  dob_years            education  education_id  \\\n",
      "0          1   -8437.673028         42               высшее             0   \n",
      "1          1   -4024.803754         36              среднее             1   \n",
      "2          0   -5623.422610         33              Среднее             1   \n",
      "3          3   -4124.747207         32              среднее             1   \n",
      "4          0  340266.072047         53              среднее             1   \n",
      "5          0    -926.185831         27               высшее             0   \n",
      "6          0   -2879.202052         43               высшее             0   \n",
      "7          0    -152.779569         50              СРЕДНЕЕ             1   \n",
      "8          2   -6929.865299         35               ВЫСШЕЕ             0   \n",
      "9          0   -2188.756445         41              среднее             1   \n",
      "10         2   -4171.483647         36               высшее             0   \n",
      "11         0    -792.701887         40              среднее             1   \n",
      "12         0            NaN         65              среднее             1   \n",
      "13         0   -1846.641941         54  неоконченное высшее             2   \n",
      "14         0   -1844.956182         56               высшее             0   \n",
      "15         1    -972.364419         26              среднее             1   \n",
      "16         0   -1719.934226         35              среднее             1   \n",
      "17         0   -2369.999720         33               высшее             0   \n",
      "18         0  400281.136913         53              среднее             1   \n",
      "19         0  -10038.818549         48              СРЕДНЕЕ             1   \n",
      "\n",
      "       family_status  family_status_id gender income_type  debt  \\\n",
      "0    женат / замужем                 0      F   сотрудник     0   \n",
      "1    женат / замужем                 0      F   сотрудник     0   \n",
      "2    женат / замужем                 0      M   сотрудник     0   \n",
      "3    женат / замужем                 0      M   сотрудник     0   \n",
      "4   гражданский брак                 1      F   пенсионер     0   \n",
      "5   гражданский брак                 1      M   компаньон     0   \n",
      "6    женат / замужем                 0      F   компаньон     0   \n",
      "7    женат / замужем                 0      M   сотрудник     0   \n",
      "8   гражданский брак                 1      F   сотрудник     0   \n",
      "9    женат / замужем                 0      M   сотрудник     0   \n",
      "10   женат / замужем                 0      M   компаньон     0   \n",
      "11   женат / замужем                 0      F   сотрудник     0   \n",
      "12  гражданский брак                 1      M   пенсионер     0   \n",
      "13   женат / замужем                 0      F   сотрудник     0   \n",
      "14  гражданский брак                 1      F   компаньон     1   \n",
      "15   женат / замужем                 0      F   сотрудник     0   \n",
      "16   женат / замужем                 0      F   сотрудник     0   \n",
      "17  гражданский брак                 1      M   сотрудник     0   \n",
      "18    вдовец / вдова                 2      F   пенсионер     0   \n",
      "19         в разводе                 3      F   сотрудник     0   \n",
      "\n",
      "     total_income                                 purpose  \n",
      "0   253875.639453                           покупка жилья  \n",
      "1   112080.014102                 приобретение автомобиля  \n",
      "2   145885.952297                           покупка жилья  \n",
      "3   267628.550329              дополнительное образование  \n",
      "4   158616.077870                         сыграть свадьбу  \n",
      "5   255763.565419                           покупка жилья  \n",
      "6   240525.971920                       операции с жильем  \n",
      "7   135823.934197                             образование  \n",
      "8    95856.832424                   на проведение свадьбы  \n",
      "9   144425.938277                 покупка жилья для семьи  \n",
      "10  113943.491460                    покупка недвижимости  \n",
      "11   77069.234271       покупка коммерческой недвижимости  \n",
      "12  118514.486412                         сыграть свадьбу  \n",
      "13  130458.228857                 приобретение автомобиля  \n",
      "14  165127.911772              покупка жилой недвижимости  \n",
      "15  116820.904450  строительство собственной недвижимости  \n",
      "16  289202.704229                            недвижимость  \n",
      "17   90410.586745              строительство недвижимости  \n",
      "18   56823.777243      на покупку подержанного автомобиля  \n",
      "19  242831.107982            на покупку своего автомобиля  \n"
     ]
    }
   ],
   "source": [
    "# Заранее определяем медианный доход для всех профессий\n",
    "median_total_income = data.groupby('income_type')['total_income'].median()\n",
    "\n",
    "# Функция подменяющая неизвестый доход медианным\n",
    "def set_median_total_income(row):\n",
    "    if pd.isnull(row['total_income']):\n",
    "        return median_total_income[row['income_type']]\n",
    "    else:\n",
    "        return row['total_income']\n",
    "data['total_income'] = data.apply(set_median_total_income, axis=1)\n",
    "\n",
    "print(data.head(20))"
   ]
  },
  {
   "cell_type": "markdown",
   "id": "ae986d46",
   "metadata": {
    "deletable": false,
    "editable": false,
    "id": "ae986d46"
   },
   "source": [
    "### Обработка аномальных значений"
   ]
  },
  {
   "cell_type": "markdown",
   "id": "b049cbae",
   "metadata": {
    "deletable": false,
    "editable": false,
    "id": "b049cbae",
    "tags": [
     "start_task"
    ]
   },
   "source": [
    "**Задание 6. В данных могут встречаться артефакты (аномалии) — значения, которые не отражают действительность и появились по какой-то ошибке. Таким артефактом будет отрицательное количество дней трудового стажа в столбце `days_employed`. Для реальных данных это нормально. Обработайте значения в этом столбце: замените все отрицательные значения положительными с помощью метода `abs()`.**"
   ]
  },
  {
   "cell_type": "code",
   "execution_count": 7,
   "id": "187779b0",
   "metadata": {
    "id": "187779b0"
   },
   "outputs": [],
   "source": [
    "# Подменяем значения на положительные\n",
    "data['days_employed'] = data['days_employed'].abs()"
   ]
  },
  {
   "cell_type": "markdown",
   "id": "a13054c2",
   "metadata": {
    "deletable": false,
    "editable": false,
    "id": "a13054c2",
    "tags": [
     "start_task"
    ]
   },
   "source": [
    "**Задание 7. Для каждого типа занятости выведите медианное значение трудового стажа `days_employed` в днях.**"
   ]
  },
  {
   "cell_type": "code",
   "execution_count": 22,
   "id": "f3f5810c",
   "metadata": {
    "id": "f3f5810c"
   },
   "outputs": [
    {
     "name": "stdout",
     "output_type": "stream",
     "text": [
      "income_type\n",
      "безработный        366413.652744\n",
      "в декрете            3296.759962\n",
      "госслужащий          2689.368353\n",
      "компаньон            1547.382223\n",
      "пенсионер          365213.306266\n",
      "предприниматель       520.848083\n",
      "сотрудник            1574.202821\n",
      "студент               578.751554\n",
      "Name: days_employed, dtype: float64\n"
     ]
    }
   ],
   "source": [
    "median_days_employed = data.groupby('income_type')['days_employed'].median()\n",
    "print(median_days_employed)"
   ]
  },
  {
   "cell_type": "markdown",
   "id": "dbc3168c",
   "metadata": {
    "deletable": false,
    "editable": false,
    "id": "dbc3168c"
   },
   "source": [
    "У двух типов (безработные и пенсионеры) получатся аномально большие значения. Исправить такие значения сложно, поэтому оставьте их как есть."
   ]
  },
  {
   "cell_type": "markdown",
   "id": "ff4378c2",
   "metadata": {
    "deletable": false,
    "editable": false,
    "id": "ff4378c2",
    "tags": [
     "start_task"
    ]
   },
   "source": [
    "**Задание 8. Выведите перечень уникальных значений столбца `children`.**"
   ]
  },
  {
   "cell_type": "code",
   "execution_count": null,
   "id": "9bd0c232",
   "metadata": {
    "id": "9bd0c232"
   },
   "outputs": [],
   "source": [
    "print(data['children'].unique())"
   ]
  },
  {
   "cell_type": "markdown",
   "id": "8e911990",
   "metadata": {
    "deletable": false,
    "editable": false,
    "id": "8e911990",
    "tags": [
     "start_task"
    ]
   },
   "source": [
    "**Задание 9. В столбце `children` есть два аномальных значения. Удалите строки, в которых встречаются такие аномальные значения из датафрейма `data`.**"
   ]
  },
  {
   "cell_type": "code",
   "execution_count": null,
   "id": "6d5ba289",
   "metadata": {
    "id": "6d5ba289"
   },
   "outputs": [],
   "source": [
    "data = data.loc[data['children'] >= 0]\n",
    "data = data.loc[data['children'] <= 5]"
   ]
  },
  {
   "cell_type": "markdown",
   "id": "18d77455",
   "metadata": {
    "deletable": false,
    "editable": false,
    "id": "18d77455",
    "tags": [
     "start_task"
    ]
   },
   "source": [
    "**Задание 10. Ещё раз выведите перечень уникальных значений столбца `children`, чтобы убедиться, что артефакты удалены.**"
   ]
  },
  {
   "cell_type": "code",
   "execution_count": null,
   "id": "2c5fa92c",
   "metadata": {
    "id": "2c5fa92c"
   },
   "outputs": [],
   "source": [
    "print(data['children'].unique())"
   ]
  },
  {
   "cell_type": "markdown",
   "id": "0ec07dee",
   "metadata": {
    "deletable": false,
    "editable": false,
    "id": "0ec07dee"
   },
   "source": [
    "### Удаление пропусков (продолжение)"
   ]
  },
  {
   "cell_type": "markdown",
   "id": "0fc3ae3f",
   "metadata": {
    "deletable": false,
    "editable": false,
    "id": "0fc3ae3f",
    "tags": [
     "start_task"
    ]
   },
   "source": [
    "**Задание 11. Заполните пропуски в столбце `days_employed` медианными значениями по каждому типу занятости `income_type`.**"
   ]
  },
  {
   "cell_type": "code",
   "execution_count": null,
   "id": "e2aea7ac",
   "metadata": {
    "id": "e2aea7ac"
   },
   "outputs": [],
   "source": [
    "# Функция подменяющая неизвестное кол-во отработанных дней медианным\n",
    "def set_median_days_employed(row):\n",
    "    if pd.isna(row['days_employed']):\n",
    "        return median_days_employed[row['income_type']]\n",
    "    else:\n",
    "        return row['days_employed']\n",
    "data['days_employed'] = data.apply(set_median_days_employed, axis=1)"
   ]
  },
  {
   "cell_type": "markdown",
   "id": "97b0b795",
   "metadata": {
    "deletable": false,
    "editable": false,
    "id": "97b0b795",
    "tags": [
     "start_task"
    ]
   },
   "source": [
    "**Задание 12. Убедитесь, что все пропуски заполнены. Проверьте себя и ещё раз выведите количество пропущенных значений для каждого столбца с помощью двух методов.**"
   ]
  },
  {
   "cell_type": "code",
   "execution_count": null,
   "id": "79632a21",
   "metadata": {
    "id": "79632a21"
   },
   "outputs": [],
   "source": [
    "print(data.isna().sum()) "
   ]
  },
  {
   "cell_type": "markdown",
   "id": "bd4aeb20",
   "metadata": {
    "deletable": false,
    "editable": false,
    "id": "bd4aeb20"
   },
   "source": [
    "### Изменение типов данных"
   ]
  },
  {
   "cell_type": "markdown",
   "id": "963bfa58",
   "metadata": {
    "deletable": false,
    "editable": false,
    "id": "963bfa58",
    "tags": [
     "start_task"
    ]
   },
   "source": [
    "**Задание 13. Замените вещественный тип данных в столбце `total_income` на целочисленный с помощью метода `astype()`.**"
   ]
  },
  {
   "cell_type": "code",
   "execution_count": null,
   "id": "73da6ea0",
   "metadata": {
    "id": "73da6ea0"
   },
   "outputs": [],
   "source": [
    "data['total_income'] = data['total_income'].astype('int')"
   ]
  },
  {
   "cell_type": "markdown",
   "id": "d290239e",
   "metadata": {
    "deletable": false,
    "editable": false,
    "id": "d290239e"
   },
   "source": [
    "### Обработка дубликатов"
   ]
  },
  {
   "cell_type": "markdown",
   "id": "1b5844fd",
   "metadata": {
    "deletable": false,
    "editable": false,
    "id": "1b5844fd",
    "tags": [
     "start_task"
    ]
   },
   "source": [
    "**Задание 14. Обработайте неявные дубликаты в столбце `education`. В этом столбце есть одни и те же значения, но записанные по-разному: с использованием заглавных и строчных букв. Приведите их к нижнему регистру.**"
   ]
  },
  {
   "cell_type": "code",
   "execution_count": null,
   "id": "3f2504b3",
   "metadata": {
    "id": "3f2504b3"
   },
   "outputs": [],
   "source": [
    "data['education'] = data['education'].str.lower()"
   ]
  },
  {
   "cell_type": "markdown",
   "id": "4c22acbc",
   "metadata": {
    "deletable": false,
    "editable": false,
    "id": "4c22acbc",
    "tags": [
     "start_task"
    ]
   },
   "source": [
    "**Задание 15. Выведите на экран количество строк-дубликатов в данных. Если такие строки присутствуют, удалите их.**"
   ]
  },
  {
   "cell_type": "code",
   "execution_count": null,
   "id": "d34a4325",
   "metadata": {
    "id": "d34a4325"
   },
   "outputs": [],
   "source": [
    "print(data.duplicated().sum())"
   ]
  },
  {
   "cell_type": "code",
   "execution_count": null,
   "id": "6e1a6499",
   "metadata": {
    "id": "6e1a6499"
   },
   "outputs": [],
   "source": [
    "data.drop_duplicates(keep='first')"
   ]
  },
  {
   "cell_type": "markdown",
   "id": "e5686ccc",
   "metadata": {
    "deletable": false,
    "editable": false,
    "id": "e5686ccc"
   },
   "source": [
    "### Категоризация данных"
   ]
  },
  {
   "cell_type": "markdown",
   "id": "636e9acd",
   "metadata": {
    "deletable": false,
    "editable": false,
    "id": "636e9acd",
    "tags": [
     "start_task"
    ]
   },
   "source": [
    "**Задание 16. На основании диапазонов, указанных ниже, создайте в датафрейме `data` столбец `total_income_category` с категориями:**\n",
    "\n",
    "- 0–30000 — `'E'`;\n",
    "- 30001–50000 — `'D'`;\n",
    "- 50001–200000 — `'C'`;\n",
    "- 200001–1000000 — `'B'`;\n",
    "- 1000001 и выше — `'A'`.\n",
    "\n",
    "\n",
    "**Например, кредитополучателю с доходом 25000 нужно назначить категорию `'E'`, а клиенту, получающему 235000, — `'B'`. Используйте собственную функцию с именем `categorize_income()` и метод `apply()`.**"
   ]
  },
  {
   "cell_type": "code",
   "execution_count": null,
   "id": "880a77e5",
   "metadata": {
    "id": "880a77e5"
   },
   "outputs": [],
   "source": [
    "import sys\n",
    "\n",
    "category_dict = {\n",
    "    'E': {'from':0, 'to': 30000},\n",
    "    'D': {'from':30001, 'to': 50000},\n",
    "    'C': {'from':50001, 'to': 200000},\n",
    "    'B': {'from':200001, 'to': 1000000},\n",
    "    'A': {'from':1000001, 'to': sys.maxsize },\n",
    "}\n",
    "\n",
    "def categorize_income(row):\n",
    "    for key, value in category_dict.items():\n",
    "        if value['from'] <= row['total_income'] <= value['to']:\n",
    "            return key"
   ]
  },
  {
   "cell_type": "code",
   "execution_count": null,
   "id": "6f25f161",
   "metadata": {
    "id": "6f25f161"
   },
   "outputs": [],
   "source": [
    "data['categorize_income'] = data.apply(categorize_income, axis=1)"
   ]
  },
  {
   "cell_type": "markdown",
   "id": "3363b685",
   "metadata": {
    "deletable": false,
    "editable": false,
    "id": "3363b685",
    "tags": [
     "start_task"
    ]
   },
   "source": [
    "**Задание 17. Выведите на экран перечень уникальных целей взятия кредита из столбца `purpose`.**"
   ]
  },
  {
   "cell_type": "code",
   "execution_count": null,
   "id": "e59f2c15",
   "metadata": {
    "id": "e59f2c15"
   },
   "outputs": [],
   "source": [
    "print(data['purpose'].unique())"
   ]
  },
  {
   "cell_type": "markdown",
   "id": "bb33e847",
   "metadata": {
    "deletable": false,
    "editable": false,
    "id": "bb33e847",
    "tags": [
     "start_task"
    ]
   },
   "source": [
    "**Задание 18. Создайте функцию, которая на основании данных из столбца `purpose` сформирует новый столбец `purpose_category`, в который войдут следующие категории:**\n",
    "\n",
    "- `'операции с автомобилем'`,\n",
    "- `'операции с недвижимостью'`,\n",
    "- `'проведение свадьбы'`,\n",
    "- `'получение образования'`.\n",
    "\n",
    "**Например, если в столбце `purpose` находится подстрока `'на покупку автомобиля'`, то в столбце `purpose_category` должна появиться строка `'операции с автомобилем'`.**\n",
    "\n",
    "**Используйте собственную функцию с именем `categorize_purpose()` и метод `apply()`. Изучите данные в столбце `purpose` и определите, какие подстроки помогут вам правильно определить категорию.**"
   ]
  },
  {
   "cell_type": "code",
   "execution_count": null,
   "id": "63909b83",
   "metadata": {
    "id": "63909b83"
   },
   "outputs": [],
   "source": [
    "# создайте функцию categorize_purpose()"
   ]
  },
  {
   "cell_type": "code",
   "execution_count": null,
   "id": "7cb4a81d",
   "metadata": {
    "id": "7cb4a81d"
   },
   "outputs": [],
   "source": [
    "# примените функцию методом apply()"
   ]
  }
 ],
 "metadata": {
  "ExecuteTimeLog": [
   {
    "duration": 416,
    "start_time": "2023-02-20T22:44:50.871Z"
   },
   {
    "duration": 53,
    "start_time": "2023-02-20T22:44:51.353Z"
   },
   {
    "duration": 293,
    "start_time": "2023-02-20T22:44:59.398Z"
   },
   {
    "duration": 12,
    "start_time": "2023-02-20T22:45:01.872Z"
   },
   {
    "duration": 16,
    "start_time": "2023-02-20T22:45:58.905Z"
   },
   {
    "duration": 70,
    "start_time": "2023-02-20T22:53:31.202Z"
   },
   {
    "duration": 9,
    "start_time": "2023-02-20T22:53:39.239Z"
   },
   {
    "duration": 8,
    "start_time": "2023-02-20T23:01:14.525Z"
   },
   {
    "duration": 18,
    "start_time": "2023-02-20T23:01:22.028Z"
   },
   {
    "duration": 13,
    "start_time": "2023-02-20T23:01:34.236Z"
   },
   {
    "duration": 18,
    "start_time": "2023-02-20T23:01:43.022Z"
   },
   {
    "duration": 14,
    "start_time": "2023-02-20T23:02:10.667Z"
   },
   {
    "duration": 12,
    "start_time": "2023-02-20T23:02:25.380Z"
   },
   {
    "duration": 47,
    "start_time": "2023-02-21T20:46:17.913Z"
   },
   {
    "duration": 357,
    "start_time": "2023-02-21T20:46:22.885Z"
   },
   {
    "duration": 125,
    "start_time": "2023-02-21T20:46:23.631Z"
   },
   {
    "duration": 12,
    "start_time": "2023-02-21T20:46:26.013Z"
   },
   {
    "duration": 21,
    "start_time": "2023-02-21T20:46:30.285Z"
   },
   {
    "duration": 14,
    "start_time": "2023-02-21T20:46:33.007Z"
   },
   {
    "duration": 34,
    "start_time": "2023-02-21T20:46:38.531Z"
   },
   {
    "duration": 11,
    "start_time": "2023-02-21T20:47:39.466Z"
   },
   {
    "duration": 5,
    "start_time": "2023-02-21T20:47:51.282Z"
   },
   {
    "duration": 5,
    "start_time": "2023-02-21T20:48:04.172Z"
   },
   {
    "duration": 5,
    "start_time": "2023-02-21T20:48:09.134Z"
   },
   {
    "duration": 20,
    "start_time": "2023-02-21T20:48:46.402Z"
   },
   {
    "duration": 17,
    "start_time": "2023-02-21T20:49:38.211Z"
   },
   {
    "duration": 12,
    "start_time": "2023-02-21T20:49:56.064Z"
   },
   {
    "duration": 11,
    "start_time": "2023-02-21T20:50:05.817Z"
   },
   {
    "duration": 9,
    "start_time": "2023-02-21T20:50:24.344Z"
   },
   {
    "duration": 14,
    "start_time": "2023-02-21T20:50:31.811Z"
   },
   {
    "duration": 11,
    "start_time": "2023-02-21T20:57:18.516Z"
   },
   {
    "duration": 8,
    "start_time": "2023-02-21T20:57:55.248Z"
   },
   {
    "duration": 8,
    "start_time": "2023-02-21T20:59:09.719Z"
   },
   {
    "duration": 23,
    "start_time": "2023-02-21T21:04:02.337Z"
   },
   {
    "duration": 154,
    "start_time": "2023-02-21T21:05:58.574Z"
   },
   {
    "duration": 11,
    "start_time": "2023-02-21T21:06:36.856Z"
   },
   {
    "duration": 3,
    "start_time": "2023-02-21T21:07:11.623Z"
   },
   {
    "duration": 70,
    "start_time": "2023-02-21T21:07:11.871Z"
   },
   {
    "duration": 9,
    "start_time": "2023-02-21T21:07:12.459Z"
   },
   {
    "duration": 16,
    "start_time": "2023-02-21T21:07:13.899Z"
   },
   {
    "duration": 9,
    "start_time": "2023-02-21T21:07:16.086Z"
   },
   {
    "duration": 200,
    "start_time": "2023-02-21T21:07:17.785Z"
   },
   {
    "duration": 198,
    "start_time": "2023-02-21T21:07:51.995Z"
   },
   {
    "duration": 194,
    "start_time": "2023-02-21T21:08:32.178Z"
   },
   {
    "duration": 195,
    "start_time": "2023-02-21T21:09:33.915Z"
   },
   {
    "duration": 3,
    "start_time": "2023-02-21T21:09:49.080Z"
   },
   {
    "duration": 62,
    "start_time": "2023-02-21T21:09:49.465Z"
   },
   {
    "duration": 9,
    "start_time": "2023-02-21T21:09:50.157Z"
   },
   {
    "duration": 13,
    "start_time": "2023-02-21T21:09:51.260Z"
   },
   {
    "duration": 8,
    "start_time": "2023-02-21T21:09:53.170Z"
   },
   {
    "duration": 208,
    "start_time": "2023-02-21T21:09:54.457Z"
   },
   {
    "duration": 199,
    "start_time": "2023-02-21T21:10:56.536Z"
   },
   {
    "duration": 193,
    "start_time": "2023-02-21T21:11:11.651Z"
   },
   {
    "duration": 193,
    "start_time": "2023-02-21T21:11:21.056Z"
   },
   {
    "duration": 204,
    "start_time": "2023-02-21T21:12:01.086Z"
   },
   {
    "duration": 186,
    "start_time": "2023-02-21T21:12:03.837Z"
   },
   {
    "duration": 14905,
    "start_time": "2023-02-21T21:12:27.358Z"
   },
   {
    "duration": 3006,
    "start_time": "2023-02-21T21:13:25.552Z"
   },
   {
    "duration": 197,
    "start_time": "2023-02-21T21:13:41.336Z"
   },
   {
    "duration": 189,
    "start_time": "2023-02-21T21:13:43.395Z"
   },
   {
    "duration": 191,
    "start_time": "2023-02-21T21:13:56.653Z"
   },
   {
    "duration": 84,
    "start_time": "2023-02-21T21:15:22.031Z"
   },
   {
    "duration": 19,
    "start_time": "2023-02-21T21:15:36.554Z"
   },
   {
    "duration": 125,
    "start_time": "2023-02-21T21:17:49.656Z"
   },
   {
    "duration": 21,
    "start_time": "2023-02-21T21:17:55.135Z"
   },
   {
    "duration": 22,
    "start_time": "2023-02-21T21:18:22.133Z"
   },
   {
    "duration": 356,
    "start_time": "2023-02-21T21:18:34.074Z"
   },
   {
    "duration": 71,
    "start_time": "2023-02-21T21:18:34.432Z"
   },
   {
    "duration": 11,
    "start_time": "2023-02-21T21:18:34.821Z"
   },
   {
    "duration": 15,
    "start_time": "2023-02-21T21:18:35.499Z"
   },
   {
    "duration": 9,
    "start_time": "2023-02-21T21:18:37.296Z"
   },
   {
    "duration": 75,
    "start_time": "2023-02-21T21:18:38.701Z"
   },
   {
    "duration": 204,
    "start_time": "2023-02-21T21:19:39.892Z"
   },
   {
    "duration": 199,
    "start_time": "2023-02-21T21:19:51.806Z"
   },
   {
    "duration": 201,
    "start_time": "2023-02-21T21:20:20.014Z"
   },
   {
    "duration": 13,
    "start_time": "2023-02-21T21:31:04.093Z"
   },
   {
    "duration": 8,
    "start_time": "2023-02-21T21:32:20.700Z"
   },
   {
    "duration": 5,
    "start_time": "2023-02-21T21:33:51.852Z"
   },
   {
    "duration": 11,
    "start_time": "2023-02-21T21:34:03.674Z"
   },
   {
    "duration": 3,
    "start_time": "2023-02-21T21:34:36.678Z"
   },
   {
    "duration": 10,
    "start_time": "2023-02-21T21:35:54.381Z"
   },
   {
    "duration": 9,
    "start_time": "2023-02-21T21:36:38.078Z"
   },
   {
    "duration": 9,
    "start_time": "2023-02-21T21:37:05.611Z"
   },
   {
    "duration": 5,
    "start_time": "2023-02-21T21:37:37.774Z"
   },
   {
    "duration": 9,
    "start_time": "2023-02-21T21:37:49.779Z"
   },
   {
    "duration": 9,
    "start_time": "2023-02-21T21:38:12.558Z"
   },
   {
    "duration": 9,
    "start_time": "2023-02-21T21:38:42.481Z"
   },
   {
    "duration": 5,
    "start_time": "2023-02-21T21:38:50.240Z"
   },
   {
    "duration": 1240,
    "start_time": "2023-02-21T21:41:04.758Z"
   },
   {
    "duration": 8,
    "start_time": "2023-02-21T21:41:42.228Z"
   },
   {
    "duration": 4,
    "start_time": "2023-02-21T21:41:43.573Z"
   },
   {
    "duration": 7,
    "start_time": "2023-02-21T21:41:44.447Z"
   },
   {
    "duration": 4,
    "start_time": "2023-02-21T21:41:45.391Z"
   },
   {
    "duration": 1215,
    "start_time": "2023-02-21T21:42:00.705Z"
   },
   {
    "duration": 1181,
    "start_time": "2023-02-21T21:42:41.823Z"
   },
   {
    "duration": 1343,
    "start_time": "2023-02-21T21:44:11.207Z"
   },
   {
    "duration": 1236,
    "start_time": "2023-02-21T21:45:46.204Z"
   },
   {
    "duration": 213,
    "start_time": "2023-02-21T21:46:11.220Z"
   },
   {
    "duration": 8,
    "start_time": "2023-02-21T21:46:38.150Z"
   },
   {
    "duration": 4,
    "start_time": "2023-02-21T21:51:16.231Z"
   },
   {
    "duration": 5,
    "start_time": "2023-02-21T21:51:37.719Z"
   },
   {
    "duration": 4,
    "start_time": "2023-02-21T21:51:43.884Z"
   },
   {
    "duration": 75,
    "start_time": "2023-02-22T15:30:38.703Z"
   },
   {
    "duration": 423,
    "start_time": "2023-02-22T15:30:49.793Z"
   },
   {
    "duration": 120,
    "start_time": "2023-02-22T15:30:50.256Z"
   },
   {
    "duration": 12,
    "start_time": "2023-02-22T15:30:50.874Z"
   },
   {
    "duration": 17,
    "start_time": "2023-02-22T15:30:51.399Z"
   },
   {
    "duration": 8,
    "start_time": "2023-02-22T15:30:53.065Z"
   },
   {
    "duration": 242,
    "start_time": "2023-02-22T15:30:54.397Z"
   },
   {
    "duration": 13,
    "start_time": "2023-02-22T15:30:55.863Z"
   },
   {
    "duration": 7,
    "start_time": "2023-02-22T15:30:57.123Z"
   },
   {
    "duration": 5,
    "start_time": "2023-02-22T15:30:58.596Z"
   },
   {
    "duration": 8,
    "start_time": "2023-02-22T15:30:59.904Z"
   },
   {
    "duration": 4,
    "start_time": "2023-02-22T15:31:01.628Z"
   },
   {
    "duration": 252,
    "start_time": "2023-02-22T15:31:03.799Z"
   },
   {
    "duration": 10,
    "start_time": "2023-02-22T15:31:04.987Z"
   },
   {
    "duration": 4,
    "start_time": "2023-02-22T15:31:06.982Z"
   },
   {
    "duration": 10,
    "start_time": "2023-02-22T15:31:08.558Z"
   },
   {
    "duration": 49,
    "start_time": "2023-02-22T23:11:26.404Z"
   },
   {
    "duration": 4,
    "start_time": "2023-02-22T23:11:34.228Z"
   },
   {
    "duration": 379,
    "start_time": "2023-02-22T23:11:39.377Z"
   },
   {
    "duration": 336,
    "start_time": "2023-02-22T23:11:39.758Z"
   },
   {
    "duration": 11,
    "start_time": "2023-02-22T23:11:40.096Z"
   },
   {
    "duration": 17,
    "start_time": "2023-02-22T23:11:40.307Z"
   },
   {
    "duration": 11,
    "start_time": "2023-02-22T23:11:41.048Z"
   },
   {
    "duration": 234,
    "start_time": "2023-02-22T23:11:41.807Z"
   },
   {
    "duration": 13,
    "start_time": "2023-02-22T23:11:43.262Z"
   },
   {
    "duration": 10,
    "start_time": "2023-02-22T23:11:44.735Z"
   },
   {
    "duration": 4,
    "start_time": "2023-02-22T23:11:46.181Z"
   },
   {
    "duration": 12,
    "start_time": "2023-02-22T23:11:47.092Z"
   },
   {
    "duration": 3,
    "start_time": "2023-02-22T23:11:48.013Z"
   },
   {
    "duration": 207,
    "start_time": "2023-02-22T23:11:49.645Z"
   },
   {
    "duration": 16,
    "start_time": "2023-02-22T23:11:50.449Z"
   },
   {
    "duration": 4,
    "start_time": "2023-02-22T23:11:52.148Z"
   },
   {
    "duration": 10,
    "start_time": "2023-02-22T23:11:53.359Z"
   },
   {
    "duration": 18,
    "start_time": "2023-02-22T23:11:54.478Z"
   },
   {
    "duration": 65,
    "start_time": "2023-02-22T23:12:55.882Z"
   },
   {
    "duration": 61,
    "start_time": "2023-02-22T23:13:00.508Z"
   },
   {
    "duration": 52,
    "start_time": "2023-02-22T23:24:35.671Z"
   },
   {
    "duration": 5,
    "start_time": "2023-02-22T23:24:48.159Z"
   },
   {
    "duration": 29,
    "start_time": "2023-02-22T23:24:49.342Z"
   },
   {
    "duration": 4,
    "start_time": "2023-02-22T23:25:30.317Z"
   },
   {
    "duration": 317,
    "start_time": "2023-02-22T23:25:31.498Z"
   },
   {
    "duration": 4,
    "start_time": "2023-02-22T23:25:48.088Z"
   },
   {
    "duration": 303,
    "start_time": "2023-02-22T23:25:48.957Z"
   },
   {
    "duration": 307,
    "start_time": "2023-02-22T23:26:19.557Z"
   },
   {
    "duration": 9,
    "start_time": "2023-02-22T23:26:50.368Z"
   },
   {
    "duration": 8,
    "start_time": "2023-02-22T23:26:56.167Z"
   },
   {
    "duration": 5,
    "start_time": "2023-02-22T23:27:03.330Z"
   },
   {
    "duration": 9,
    "start_time": "2023-02-22T23:27:11.058Z"
   },
   {
    "duration": 5,
    "start_time": "2023-02-22T23:27:18.426Z"
   },
   {
    "duration": 2,
    "start_time": "2023-02-22T23:27:34.643Z"
   },
   {
    "duration": 72,
    "start_time": "2023-02-22T23:27:34.862Z"
   },
   {
    "duration": 201,
    "start_time": "2023-02-22T23:29:22.404Z"
   },
   {
    "duration": 408,
    "start_time": "2023-02-22T23:30:39.263Z"
   },
   {
    "duration": 83,
    "start_time": "2023-02-22T23:30:39.673Z"
   },
   {
    "duration": 12,
    "start_time": "2023-02-22T23:30:40.324Z"
   },
   {
    "duration": 21,
    "start_time": "2023-02-22T23:30:41.140Z"
   },
   {
    "duration": 9,
    "start_time": "2023-02-22T23:30:42.505Z"
   },
   {
    "duration": 218,
    "start_time": "2023-02-22T23:30:43.669Z"
   },
   {
    "duration": 13,
    "start_time": "2023-02-22T23:30:45.919Z"
   },
   {
    "duration": 8,
    "start_time": "2023-02-22T23:30:49.392Z"
   },
   {
    "duration": 7,
    "start_time": "2023-02-22T23:39:19.694Z"
   },
   {
    "duration": 9,
    "start_time": "2023-02-22T23:39:23.204Z"
   },
   {
    "duration": 234,
    "start_time": "2023-02-22T23:41:06.270Z"
   },
   {
    "duration": 16,
    "start_time": "2023-02-22T23:41:08.072Z"
   },
   {
    "duration": 5,
    "start_time": "2023-02-22T23:41:09.395Z"
   },
   {
    "duration": 433,
    "start_time": "2023-02-22T23:41:25.966Z"
   },
   {
    "duration": 78,
    "start_time": "2023-02-22T23:41:26.401Z"
   },
   {
    "duration": 10,
    "start_time": "2023-02-22T23:41:26.960Z"
   },
   {
    "duration": 16,
    "start_time": "2023-02-22T23:41:28.016Z"
   },
   {
    "duration": 10,
    "start_time": "2023-02-22T23:41:30.062Z"
   },
   {
    "duration": 205,
    "start_time": "2023-02-22T23:41:31.694Z"
   },
   {
    "duration": 14,
    "start_time": "2023-02-22T23:41:33.403Z"
   },
   {
    "duration": 66,
    "start_time": "2023-02-22T23:41:37.208Z"
   },
   {
    "duration": 6,
    "start_time": "2023-02-22T23:42:14.478Z"
   },
   {
    "duration": 10,
    "start_time": "2023-02-22T23:45:24.719Z"
   },
   {
    "duration": 17,
    "start_time": "2023-02-22T23:45:30.044Z"
   },
   {
    "duration": 13,
    "start_time": "2023-02-22T23:45:50.852Z"
   },
   {
    "duration": 4,
    "start_time": "2023-02-22T23:51:25.466Z"
   },
   {
    "duration": 8,
    "start_time": "2023-02-22T23:51:29.052Z"
   },
   {
    "duration": 214,
    "start_time": "2023-02-22T23:55:14.382Z"
   },
   {
    "duration": 222,
    "start_time": "2023-02-22T23:55:20.594Z"
   },
   {
    "duration": 221,
    "start_time": "2023-02-22T23:55:29.260Z"
   },
   {
    "duration": 411,
    "start_time": "2023-02-22T23:59:04.251Z"
   },
   {
    "duration": 85,
    "start_time": "2023-02-22T23:59:04.783Z"
   },
   {
    "duration": 11,
    "start_time": "2023-02-22T23:59:05.398Z"
   },
   {
    "duration": 17,
    "start_time": "2023-02-22T23:59:06.125Z"
   },
   {
    "duration": 10,
    "start_time": "2023-02-22T23:59:08.088Z"
   },
   {
    "duration": 231,
    "start_time": "2023-02-22T23:59:09.269Z"
   },
   {
    "duration": 3,
    "start_time": "2023-02-22T23:59:11.915Z"
   },
   {
    "duration": 7,
    "start_time": "2023-02-22T23:59:14.487Z"
   },
   {
    "duration": 407,
    "start_time": "2023-02-22T23:59:34.216Z"
   },
   {
    "duration": 78,
    "start_time": "2023-02-22T23:59:34.625Z"
   },
   {
    "duration": 10,
    "start_time": "2023-02-22T23:59:34.976Z"
   },
   {
    "duration": 22,
    "start_time": "2023-02-22T23:59:35.333Z"
   },
   {
    "duration": 15,
    "start_time": "2023-02-22T23:59:36.040Z"
   },
   {
    "duration": 233,
    "start_time": "2023-02-22T23:59:36.629Z"
   },
   {
    "duration": 4,
    "start_time": "2023-02-22T23:59:38.060Z"
   },
   {
    "duration": 7,
    "start_time": "2023-02-22T23:59:38.888Z"
   },
   {
    "duration": 6,
    "start_time": "2023-02-23T00:03:00.107Z"
   },
   {
    "duration": 8,
    "start_time": "2023-02-23T00:03:03.008Z"
   },
   {
    "duration": 7,
    "start_time": "2023-02-23T00:03:11.363Z"
   },
   {
    "duration": 7,
    "start_time": "2023-02-23T00:03:22.175Z"
   },
   {
    "duration": 68,
    "start_time": "2023-02-23T00:04:42.861Z"
   },
   {
    "duration": 8,
    "start_time": "2023-02-23T00:04:47.688Z"
   },
   {
    "duration": 8,
    "start_time": "2023-02-23T00:05:51.657Z"
   },
   {
    "duration": 8,
    "start_time": "2023-02-23T00:06:39.629Z"
   },
   {
    "duration": 7,
    "start_time": "2023-02-23T00:06:46.976Z"
   },
   {
    "duration": 11,
    "start_time": "2023-02-23T00:07:08.487Z"
   },
   {
    "duration": 26,
    "start_time": "2023-02-23T00:07:33.827Z"
   },
   {
    "duration": 25,
    "start_time": "2023-02-23T00:07:49.954Z"
   },
   {
    "duration": 11,
    "start_time": "2023-02-23T00:08:07.659Z"
   },
   {
    "duration": 7,
    "start_time": "2023-02-23T00:09:05.055Z"
   }
  ],
  "colab": {
   "provenance": []
  },
  "kernelspec": {
   "display_name": "Python 3 (ipykernel)",
   "language": "python",
   "name": "python3"
  },
  "language_info": {
   "codemirror_mode": {
    "name": "ipython",
    "version": 3
   },
   "file_extension": ".py",
   "mimetype": "text/x-python",
   "name": "python",
   "nbconvert_exporter": "python",
   "pygments_lexer": "ipython3",
   "version": "3.9.5"
  },
  "toc": {
   "base_numbering": 1,
   "nav_menu": {},
   "number_sections": true,
   "sideBar": true,
   "skip_h1_title": true,
   "title_cell": "Table of Contents",
   "title_sidebar": "Contents",
   "toc_cell": false,
   "toc_position": {},
   "toc_section_display": true,
   "toc_window_display": false
  }
 },
 "nbformat": 4,
 "nbformat_minor": 5
}
